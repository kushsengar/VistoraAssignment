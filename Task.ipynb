{
 "cells": [
  {
   "cell_type": "code",
   "execution_count": 0,
   "metadata": {
    "application/vnd.databricks.v1+cell": {
     "cellMetadata": {
      "byteLimit": 2048000,
      "rowLimit": 10000
     },
     "inputWidgets": {},
     "nuid": "759dbcef-2c5a-41f4-966c-e0ebf6d208e9",
     "showTitle": false,
     "tableResultSettingsMap": {},
     "title": ""
    }
   },
   "outputs": [],
   "source": [
    "from pyspark.sql import SparkSession\n",
    "df = spark.read.csv(\"/FileStore/tables/raw_transactions.csv\", header=True, inferSchema=True)\n",
    "df.createOrReplaceTempView(\"raw_transactions\")\n"
   ]
  },
  {
   "cell_type": "code",
   "execution_count": 0,
   "metadata": {
    "application/vnd.databricks.v1+cell": {
     "cellMetadata": {
      "byteLimit": 2048000,
      "rowLimit": 10000
     },
     "inputWidgets": {},
     "nuid": "68c2beb2-4ee2-4926-a01e-fa99f506fd90",
     "showTitle": false,
     "tableResultSettingsMap": {},
     "title": ""
    }
   },
   "outputs": [
    {
     "data": {
      "text/html": [
       "<style scoped>\n",
       "  .table-result-container {\n",
       "    max-height: 300px;\n",
       "    overflow: auto;\n",
       "  }\n",
       "  table, th, td {\n",
       "    border: 1px solid black;\n",
       "    border-collapse: collapse;\n",
       "  }\n",
       "  th, td {\n",
       "    padding: 5px;\n",
       "  }\n",
       "  th {\n",
       "    text-align: left;\n",
       "  }\n",
       "</style><div class='table-result-container'><table class='table-result'><thead style='background-color: white'><tr><th>transaction_id</th><th>customer_id</th><th>transaction_date</th><th>transaction_amount</th><th>payment_method</th><th>product_category</th></tr></thead><tbody><tr><td>T001</td><td>C001</td><td>2024-11-10</td><td>100.0</td><td>Credit Card</td><td>Electronics</td></tr><tr><td>T002</td><td>C002</td><td>2024-11-12</td><td>50.0</td><td>PayPal</td><td>Clothing</td></tr><tr><td>T003</td><td>C001</td><td>2024-11-13</td><td>75.0</td><td>Credit Card</td><td>Books</td></tr><tr><td>T004</td><td>C003</td><td>2024-11-14</td><td>120.0</td><td>Debit Card</td><td>Electronics</td></tr><tr><td>T005</td><td>C002</td><td>2024-11-15</td><td>60.0</td><td>PayPal</td><td>Beauty</td></tr><tr><td>T006</td><td>C003</td><td>2024-11-16</td><td>30.0</td><td>UPI</td><td>Clothing</td></tr><tr><td>T007</td><td>C001</td><td>2024-11-17</td><td>90.0</td><td>Credit Card</td><td>Home</td></tr><tr><td>T008</td><td>C004</td><td>2024-11-18</td><td>110.0</td><td>Credit Card</td><td>Electronics</td></tr><tr><td>T009</td><td>C005</td><td>2024-11-19</td><td>95.0</td><td>Debit Card</td><td>Books</td></tr><tr><td>T010</td><td>C002</td><td>2024-11-20</td><td>85.0</td><td>UPI</td><td>Clothing</td></tr></tbody></table></div>"
      ]
     },
     "metadata": {
      "application/vnd.databricks.v1+output": {
       "addedWidgets": {},
       "aggData": [],
       "aggError": "",
       "aggOverflow": false,
       "aggSchema": [],
       "aggSeriesLimitReached": false,
       "aggType": "",
       "arguments": {},
       "columnCustomDisplayInfos": {},
       "data": [
        [
         "T001",
         "C001",
         "2024-11-10",
         100,
         "Credit Card",
         "Electronics"
        ],
        [
         "T002",
         "C002",
         "2024-11-12",
         50,
         "PayPal",
         "Clothing"
        ],
        [
         "T003",
         "C001",
         "2024-11-13",
         75,
         "Credit Card",
         "Books"
        ],
        [
         "T004",
         "C003",
         "2024-11-14",
         120,
         "Debit Card",
         "Electronics"
        ],
        [
         "T005",
         "C002",
         "2024-11-15",
         60,
         "PayPal",
         "Beauty"
        ],
        [
         "T006",
         "C003",
         "2024-11-16",
         30,
         "UPI",
         "Clothing"
        ],
        [
         "T007",
         "C001",
         "2024-11-17",
         90,
         "Credit Card",
         "Home"
        ],
        [
         "T008",
         "C004",
         "2024-11-18",
         110,
         "Credit Card",
         "Electronics"
        ],
        [
         "T009",
         "C005",
         "2024-11-19",
         95,
         "Debit Card",
         "Books"
        ],
        [
         "T010",
         "C002",
         "2024-11-20",
         85,
         "UPI",
         "Clothing"
        ]
       ],
       "datasetInfos": [],
       "dbfsResultPath": null,
       "isJsonSchema": true,
       "metadata": {},
       "overflow": false,
       "plotOptions": {
        "customPlotOptions": {},
        "displayType": "table",
        "pivotAggregation": null,
        "pivotColumns": null,
        "xColumns": null,
        "yColumns": null
       },
       "removedWidgets": [],
       "schema": [
        {
         "metadata": "{}",
         "name": "transaction_id",
         "type": "\"string\""
        },
        {
         "metadata": "{}",
         "name": "customer_id",
         "type": "\"string\""
        },
        {
         "metadata": "{\"__detected_date_formats\":\"yyyy-M-d\"}",
         "name": "transaction_date",
         "type": "\"date\""
        },
        {
         "metadata": "{}",
         "name": "transaction_amount",
         "type": "\"double\""
        },
        {
         "metadata": "{}",
         "name": "payment_method",
         "type": "\"string\""
        },
        {
         "metadata": "{}",
         "name": "product_category",
         "type": "\"string\""
        }
       ],
       "type": "table"
      }
     },
     "output_type": "display_data"
    }
   ],
   "source": [
    "df.display()"
   ]
  },
  {
   "cell_type": "code",
   "execution_count": 0,
   "metadata": {
    "application/vnd.databricks.v1+cell": {
     "cellMetadata": {
      "byteLimit": 2048000,
      "rowLimit": 10000
     },
     "inputWidgets": {},
     "nuid": "7319b3ee-4f54-4788-8110-ca8262f5241b",
     "showTitle": false,
     "tableResultSettingsMap": {},
     "title": ""
    }
   },
   "outputs": [],
   "source": [
    "from pyspark.sql.functions import avg, count, max\n",
    "\n",
    "features_df = df.groupBy(\"customer_id\").agg(\n",
    "    count(\"*\").alias(\"total_transactions\"),\n",
    "    avg(\"transaction_amount\").alias(\"avg_transaction_amount\"),\n",
    "    max(\"transaction_date\").alias(\"last_transaction_date\")\n",
    ")"
   ]
  },
  {
   "cell_type": "code",
   "execution_count": 0,
   "metadata": {
    "application/vnd.databricks.v1+cell": {
     "cellMetadata": {
      "byteLimit": 2048000,
      "rowLimit": 10000
     },
     "inputWidgets": {},
     "nuid": "9551456c-2a41-4958-a912-e6290f512626",
     "showTitle": false,
     "tableResultSettingsMap": {},
     "title": ""
    }
   },
   "outputs": [
    {
     "data": {
      "text/html": [
       "<style scoped>\n",
       "  .table-result-container {\n",
       "    max-height: 300px;\n",
       "    overflow: auto;\n",
       "  }\n",
       "  table, th, td {\n",
       "    border: 1px solid black;\n",
       "    border-collapse: collapse;\n",
       "  }\n",
       "  th, td {\n",
       "    padding: 5px;\n",
       "  }\n",
       "  th {\n",
       "    text-align: left;\n",
       "  }\n",
       "</style><div class='table-result-container'><table class='table-result'><thead style='background-color: white'><tr><th>customer_id</th><th>total_transactions</th><th>avg_transaction_amount</th><th>last_transaction_date</th></tr></thead><tbody><tr><td>C003</td><td>2</td><td>75.0</td><td>2024-11-16</td></tr><tr><td>C004</td><td>1</td><td>110.0</td><td>2024-11-18</td></tr><tr><td>C005</td><td>1</td><td>95.0</td><td>2024-11-19</td></tr><tr><td>C001</td><td>3</td><td>88.33333333333333</td><td>2024-11-17</td></tr><tr><td>C002</td><td>3</td><td>65.0</td><td>2024-11-20</td></tr></tbody></table></div>"
      ]
     },
     "metadata": {
      "application/vnd.databricks.v1+output": {
       "addedWidgets": {},
       "aggData": [],
       "aggError": "",
       "aggOverflow": false,
       "aggSchema": [],
       "aggSeriesLimitReached": false,
       "aggType": "",
       "arguments": {},
       "columnCustomDisplayInfos": {},
       "data": [
        [
         "C003",
         2,
         75,
         "2024-11-16"
        ],
        [
         "C004",
         1,
         110,
         "2024-11-18"
        ],
        [
         "C005",
         1,
         95,
         "2024-11-19"
        ],
        [
         "C001",
         3,
         88.33333333333333,
         "2024-11-17"
        ],
        [
         "C002",
         3,
         65,
         "2024-11-20"
        ]
       ],
       "datasetInfos": [],
       "dbfsResultPath": null,
       "isJsonSchema": true,
       "metadata": {},
       "overflow": false,
       "plotOptions": {
        "customPlotOptions": {},
        "displayType": "table",
        "pivotAggregation": null,
        "pivotColumns": null,
        "xColumns": null,
        "yColumns": null
       },
       "removedWidgets": [],
       "schema": [
        {
         "metadata": "{}",
         "name": "customer_id",
         "type": "\"string\""
        },
        {
         "metadata": "{}",
         "name": "total_transactions",
         "type": "\"long\""
        },
        {
         "metadata": "{}",
         "name": "avg_transaction_amount",
         "type": "\"double\""
        },
        {
         "metadata": "{}",
         "name": "last_transaction_date",
         "type": "\"date\""
        }
       ],
       "type": "table"
      }
     },
     "output_type": "display_data"
    }
   ],
   "source": [
    "features_df.display()"
   ]
  },
  {
   "cell_type": "code",
   "execution_count": 0,
   "metadata": {
    "application/vnd.databricks.v1+cell": {
     "cellMetadata": {
      "byteLimit": 2048000,
      "rowLimit": 10000
     },
     "inputWidgets": {},
     "nuid": "2253c589-6fa4-436b-9424-ba41281abcff",
     "showTitle": false,
     "tableResultSettingsMap": {},
     "title": ""
    }
   },
   "outputs": [
    {
     "name": "stdout",
     "output_type": "stream",
     "text": [
      "Out[5]: DataFrame[]"
     ]
    }
   ],
   "source": [
    "spark.sql(\"CREATE DATABASE IF NOT EXISTS feature_store\")"
   ]
  },
  {
   "cell_type": "code",
   "execution_count": 0,
   "metadata": {
    "application/vnd.databricks.v1+cell": {
     "cellMetadata": {
      "byteLimit": 2048000,
      "rowLimit": 10000
     },
     "inputWidgets": {},
     "nuid": "e7d01a3e-e870-4d98-a230-e1d81348225a",
     "showTitle": false,
     "tableResultSettingsMap": {},
     "title": ""
    }
   },
   "outputs": [
    {
     "name": "stdout",
     "output_type": "stream",
     "text": [
      "+-----------+-----+------------------+----------------------+---------------------+\n",
      "|customer_id|label|total_transactions|avg_transaction_amount|last_transaction_date|\n",
      "+-----------+-----+------------------+----------------------+---------------------+\n",
      "|       C001|    1|                 3|     88.33333333333333|           2024-11-17|\n",
      "|       C002|    0|                 3|                  65.0|           2024-11-20|\n",
      "|       C003|    1|                 2|                  75.0|           2024-11-16|\n",
      "|       C004|    0|                 1|                 110.0|           2024-11-18|\n",
      "|       C005|    1|                 1|                  95.0|           2024-11-19|\n",
      "+-----------+-----+------------------+----------------------+---------------------+\n",
      "\n"
     ]
    }
   ],
   "source": [
    "features_df.write.format(\"delta\").mode(\"overwrite\").saveAsTable(\"feature_store_customer_features\")\n",
    "# Step 1: Load Features + Labels\n",
    "from pyspark.sql import SparkSession\n",
    "\n",
    "labels_df = spark.createDataFrame([\n",
    "    (\"C001\", 1),\n",
    "    (\"C002\", 0),\n",
    "    (\"C003\", 1),\n",
    "    (\"C004\", 0),\n",
    "    (\"C005\", 1)\n",
    "], [\"customer_id\", \"label\"])\n",
    "\n",
    "features_df = spark.read.table(\"feature_store_customer_features\")\n",
    "\n",
    "training_df = labels_df.join(features_df, on=\"customer_id\", how=\"inner\")\n",
    "training_df.show()"
   ]
  },
  {
   "cell_type": "code",
   "execution_count": 0,
   "metadata": {
    "application/vnd.databricks.v1+cell": {
     "cellMetadata": {
      "byteLimit": 2048000,
      "rowLimit": 10000
     },
     "inputWidgets": {},
     "nuid": "95d7d2cd-9fb1-4c0b-8782-13236e37f213",
     "showTitle": false,
     "tableResultSettingsMap": {},
     "title": ""
    }
   },
   "outputs": [],
   "source": [
    "#Step 2: Prepare Data for ML\n",
    "from pyspark.ml.feature import VectorAssembler\n",
    "from pyspark.ml.classification import LogisticRegression\n",
    "from pyspark.ml.evaluation import BinaryClassificationEvaluator\n",
    "\n",
    "feature_cols = [\"total_transactions\", \"avg_transaction_amount\"]\n",
    "\n",
    "assembler = VectorAssembler(inputCols=feature_cols, outputCol=\"features\")\n",
    "assembled_df = assembler.transform(training_df)\n",
    "\n",
    "final_df = assembled_df.select(\"features\", \"label\")\n"
   ]
  },
  {
   "cell_type": "code",
   "execution_count": 0,
   "metadata": {
    "application/vnd.databricks.v1+cell": {
     "cellMetadata": {
      "byteLimit": 2048000,
      "rowLimit": 10000
     },
     "inputWidgets": {},
     "nuid": "99da6b95-12e7-44ca-989e-3e5715f2f9a1",
     "showTitle": false,
     "tableResultSettingsMap": {},
     "title": ""
    }
   },
   "outputs": [],
   "source": [
    "# Step 3: Train a Model\n",
    "train_data, test_data = final_df.randomSplit([0.8, 0.2], seed=42)\n",
    "lr = LogisticRegression(featuresCol=\"features\", labelCol=\"label\")\n",
    "model = lr.fit(train_data)"
   ]
  },
  {
   "cell_type": "code",
   "execution_count": 0,
   "metadata": {
    "application/vnd.databricks.v1+cell": {
     "cellMetadata": {
      "byteLimit": 2048000,
      "rowLimit": 10000
     },
     "inputWidgets": {},
     "nuid": "dc455475-0e8d-4378-bb0d-32a87d2af896",
     "showTitle": false,
     "tableResultSettingsMap": {},
     "title": ""
    }
   },
   "outputs": [
    {
     "data": {
      "text/html": [
       "<style scoped>\n",
       "  .table-result-container {\n",
       "    max-height: 300px;\n",
       "    overflow: auto;\n",
       "  }\n",
       "  table, th, td {\n",
       "    border: 1px solid black;\n",
       "    border-collapse: collapse;\n",
       "  }\n",
       "  th, td {\n",
       "    padding: 5px;\n",
       "  }\n",
       "  th {\n",
       "    text-align: left;\n",
       "  }\n",
       "</style><div class='table-result-container'><table class='table-result'><thead style='background-color: white'><tr><th>features</th><th>label</th></tr></thead><tbody><tr><td>Map(vectorType -> dense, length -> 2, values -> List(3.0, 88.33333333333333))</td><td>1</td></tr></tbody></table></div>"
      ]
     },
     "metadata": {
      "application/vnd.databricks.v1+output": {
       "addedWidgets": {},
       "aggData": [],
       "aggError": "",
       "aggOverflow": false,
       "aggSchema": [],
       "aggSeriesLimitReached": false,
       "aggType": "",
       "arguments": {},
       "columnCustomDisplayInfos": {},
       "data": [
        [
         {
          "length": 2,
          "values": [
           3,
           88.33333333333333
          ],
          "vectorType": "dense"
         },
         1
        ]
       ],
       "datasetInfos": [],
       "dbfsResultPath": null,
       "isJsonSchema": true,
       "metadata": {},
       "overflow": false,
       "plotOptions": {
        "customPlotOptions": {},
        "displayType": "table",
        "pivotAggregation": null,
        "pivotColumns": null,
        "xColumns": null,
        "yColumns": null
       },
       "removedWidgets": [],
       "schema": [
        {
         "metadata": "{\"ml_attr\":{\"attrs\":{\"numeric\":[{\"idx\":0,\"name\":\"total_transactions\"},{\"idx\":1,\"name\":\"avg_transaction_amount\"}]},\"num_attrs\":2}}",
         "name": "features",
         "type": "{\"type\":\"udt\",\"class\":\"org.apache.spark.ml.linalg.VectorUDT\",\"pyClass\":\"pyspark.ml.linalg.VectorUDT\",\"sqlType\":{\"type\":\"struct\",\"fields\":[{\"name\":\"type\",\"type\":\"byte\",\"nullable\":false,\"metadata\":{}},{\"name\":\"size\",\"type\":\"integer\",\"nullable\":true,\"metadata\":{}},{\"name\":\"indices\",\"type\":{\"type\":\"array\",\"elementType\":\"integer\",\"containsNull\":false},\"nullable\":true,\"metadata\":{}},{\"name\":\"values\",\"type\":{\"type\":\"array\",\"elementType\":\"double\",\"containsNull\":false},\"nullable\":true,\"metadata\":{}}]}}"
        },
        {
         "metadata": "{}",
         "name": "label",
         "type": "\"long\""
        }
       ],
       "type": "table"
      }
     },
     "output_type": "display_data"
    },
    {
     "data": {
      "text/html": [
       "<style scoped>\n",
       "  .table-result-container {\n",
       "    max-height: 300px;\n",
       "    overflow: auto;\n",
       "  }\n",
       "  table, th, td {\n",
       "    border: 1px solid black;\n",
       "    border-collapse: collapse;\n",
       "  }\n",
       "  th, td {\n",
       "    padding: 5px;\n",
       "  }\n",
       "  th {\n",
       "    text-align: left;\n",
       "  }\n",
       "</style><div class='table-result-container'><table class='table-result'><thead style='background-color: white'><tr><th>features</th><th>label</th></tr></thead><tbody><tr><td>Map(vectorType -> dense, length -> 2, values -> List(3.0, 65.0))</td><td>0</td></tr><tr><td>Map(vectorType -> dense, length -> 2, values -> List(2.0, 75.0))</td><td>1</td></tr><tr><td>Map(vectorType -> dense, length -> 2, values -> List(1.0, 110.0))</td><td>0</td></tr><tr><td>Map(vectorType -> dense, length -> 2, values -> List(1.0, 95.0))</td><td>1</td></tr></tbody></table></div>"
      ]
     },
     "metadata": {
      "application/vnd.databricks.v1+output": {
       "addedWidgets": {},
       "aggData": [],
       "aggError": "",
       "aggOverflow": false,
       "aggSchema": [],
       "aggSeriesLimitReached": false,
       "aggType": "",
       "arguments": {},
       "columnCustomDisplayInfos": {},
       "data": [
        [
         {
          "length": 2,
          "values": [
           3,
           65
          ],
          "vectorType": "dense"
         },
         0
        ],
        [
         {
          "length": 2,
          "values": [
           2,
           75
          ],
          "vectorType": "dense"
         },
         1
        ],
        [
         {
          "length": 2,
          "values": [
           1,
           110
          ],
          "vectorType": "dense"
         },
         0
        ],
        [
         {
          "length": 2,
          "values": [
           1,
           95
          ],
          "vectorType": "dense"
         },
         1
        ]
       ],
       "datasetInfos": [],
       "dbfsResultPath": null,
       "isJsonSchema": true,
       "metadata": {},
       "overflow": false,
       "plotOptions": {
        "customPlotOptions": {},
        "displayType": "table",
        "pivotAggregation": null,
        "pivotColumns": null,
        "xColumns": null,
        "yColumns": null
       },
       "removedWidgets": [],
       "schema": [
        {
         "metadata": "{\"ml_attr\":{\"attrs\":{\"numeric\":[{\"idx\":0,\"name\":\"total_transactions\"},{\"idx\":1,\"name\":\"avg_transaction_amount\"}]},\"num_attrs\":2}}",
         "name": "features",
         "type": "{\"type\":\"udt\",\"class\":\"org.apache.spark.ml.linalg.VectorUDT\",\"pyClass\":\"pyspark.ml.linalg.VectorUDT\",\"sqlType\":{\"type\":\"struct\",\"fields\":[{\"name\":\"type\",\"type\":\"byte\",\"nullable\":false,\"metadata\":{}},{\"name\":\"size\",\"type\":\"integer\",\"nullable\":true,\"metadata\":{}},{\"name\":\"indices\",\"type\":{\"type\":\"array\",\"elementType\":\"integer\",\"containsNull\":false},\"nullable\":true,\"metadata\":{}},{\"name\":\"values\",\"type\":{\"type\":\"array\",\"elementType\":\"double\",\"containsNull\":false},\"nullable\":true,\"metadata\":{}}]}}"
        },
        {
         "metadata": "{}",
         "name": "label",
         "type": "\"long\""
        }
       ],
       "type": "table"
      }
     },
     "output_type": "display_data"
    }
   ],
   "source": [
    "test_data.display()\n",
    "train_data.display()"
   ]
  },
  {
   "cell_type": "code",
   "execution_count": 0,
   "metadata": {
    "application/vnd.databricks.v1+cell": {
     "cellMetadata": {
      "byteLimit": 2048000,
      "rowLimit": 10000
     },
     "inputWidgets": {},
     "nuid": "69672369-89e6-418f-ad01-f02a382bd530",
     "showTitle": false,
     "tableResultSettingsMap": {},
     "title": ""
    }
   },
   "outputs": [
    {
     "name": "stdout",
     "output_type": "stream",
     "text": [
      "Test AUC: 1.00\n"
     ]
    }
   ],
   "source": [
    "# Step 4: Evaluate Model\n",
    "predictions = model.transform(test_data)\n",
    "evaluator = BinaryClassificationEvaluator(labelCol=\"label\")\n",
    "auc = evaluator.evaluate(predictions)\n",
    "print(f\"Test AUC: {auc:.2f}\")"
   ]
  }
 ],
 "metadata": {
  "application/vnd.databricks.v1+notebook": {
   "computePreferences": null,
   "dashboards": [],
   "environmentMetadata": {
    "base_environment": "",
    "environment_version": "1"
   },
   "inputWidgetPreferences": null,
   "language": "python",
   "notebookMetadata": {
    "pythonIndentUnit": 4
   },
   "notebookName": "Task",
   "widgets": {}
  },
  "language_info": {
   "name": "python"
  }
 },
 "nbformat": 4,
 "nbformat_minor": 0
}
